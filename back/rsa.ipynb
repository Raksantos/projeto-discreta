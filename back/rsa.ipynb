{
 "nbformat": 4,
 "nbformat_minor": 2,
 "metadata": {
  "language_info": {
   "name": "python",
   "codemirror_mode": {
    "name": "ipython",
    "version": 3
   },
   "version": "3.6.9-final"
  },
  "orig_nbformat": 2,
  "file_extension": ".py",
  "mimetype": "text/x-python",
  "name": "python",
  "npconvert_exporter": "python",
  "pygments_lexer": "ipython3",
  "version": 3,
  "kernelspec": {
   "name": "python3",
   "display_name": "Python 3"
  }
 },
 "cells": [
  {
   "cell_type": "code",
   "execution_count": null,
   "metadata": {},
   "outputs": [],
   "source": [
    "import random"
   ]
  },
  {
   "cell_type": "code",
   "execution_count": null,
   "metadata": {},
   "outputs": [],
   "source": [
    "'''\n",
    "Teste de Primalidade de Fermat\n",
    "inputs:\n",
    "    n: o numero a ser testado, n > 3\n",
    "    k: quantidade de testes de primalidade\n",
    "output:\n",
    "    False, se n for composto (nao primo)\n",
    "    True, caso contrario.\n",
    "'''\n",
    "\n",
    "def primalidade_fermat(n, k):\n",
    "    if n <= 1 or n % 2 == 0:\n",
    "        return False\n",
    "    if n == 2 or n == 3:\n",
    "        return True\n",
    "    \n",
    "    for x in range(k):\n",
    "        a = random.randint(2, n - 2)\n",
    "        if(pow(a, n - 1, n) != 1):\n",
    "            return False\n",
    "    \n",
    "    return True\n"
   ]
  },
  {
   "cell_type": "code",
   "execution_count": null,
   "metadata": {},
   "outputs": [],
   "source": [
    "primalidade_fermat(2112351977, 72)"
   ]
  },
  {
   "cell_type": "code",
   "execution_count": null,
   "metadata": {},
   "outputs": [],
   "source": [
    "def mdc(a, b):\n",
    "    if(a % b == 0):\n",
    "        return b\n",
    "    else:\n",
    "        return mdc(b, a % b)"
   ]
  },
  {
   "cell_type": "code",
   "execution_count": null,
   "metadata": {},
   "outputs": [],
   "source": [
    "def calcular_e(p, q):\n",
    "    n = (p - 1) * (q - 1)\n",
    "    \n",
    "    e = 2\n",
    "    while (mdc(e, n) != 1) and e > 1:\n",
    "        e = random.randint(3, n - 1)\n",
    "    \n",
    "    return e"
   ]
  },
  {
   "cell_type": "code",
   "execution_count": null,
   "metadata": {},
   "outputs": [],
   "source": [
    "calcular_e(29, 37)"
   ]
  },
  {
   "cell_type": "code",
   "execution_count": null,
   "metadata": {},
   "outputs": [],
   "source": [
    "def inv_mod(a, b):\n",
    "    for i in range(0, b):\n",
    "        if((a * i) % b == 1):\n",
    "            return i\n",
    "    return False"
   ]
  },
  {
   "cell_type": "code",
   "execution_count": null,
   "metadata": {},
   "outputs": [],
   "source": [
    "inverso_modular(271, 1008)"
   ]
  },
  {
   "cell_type": "code",
   "execution_count": null,
   "metadata": {},
   "outputs": [],
   "source": [
    "# algoritmo de euclides estendido\n",
    "def inverso_modular(a, n):\n",
    "    t, r = 0, n\n",
    "    t1, r1 = 1, a\n",
    "    i = 0\n",
    "\n",
    "    while r1 != 0:\n",
    "        q = r // r1\n",
    "        t, t1 = t1, t - (q * t1)\n",
    "        r, r1 = r1, r - (q * r1)\n",
    "    \n",
    "    if r > 1:\n",
    "        return False\n",
    "    if t < 0:\n",
    "        t = t + n\n",
    "    \n",
    "    return t"
   ]
  },
  {
   "cell_type": "code",
   "execution_count": null,
   "metadata": {},
   "outputs": [],
   "source": [
    "inv_mod(271, 1008)"
   ]
  },
  {
   "cell_type": "code",
   "execution_count": null,
   "metadata": {},
   "outputs": [],
   "source": [
    "# k: quantidade de bits que representarão o numero\n",
    "def gerar_primo(k):\n",
    "    n = random.getrandbits(k)\n",
    "    while not primalidade_fermat(n, 256):\n",
    "        n = random.getrandbits(k)\n",
    "    return n"
   ]
  },
  {
   "cell_type": "code",
   "execution_count": null,
   "metadata": {},
   "outputs": [],
   "source": [
    "gerar_primo(256)"
   ]
  },
  {
   "cell_type": "code",
   "execution_count": null,
   "metadata": {},
   "outputs": [],
   "source": [
    "def gerar_chaves():\n",
    "    \n",
    "    p = gerar_primo(256)\n",
    "    q = gerar_primo(256)\n",
    "    n = p * q\n",
    "    m = (p - 1) * (q - 1)\n",
    "\n",
    "    e = calcular_e(p, q)\n",
    "    d = inverso_modular(e, m)\n",
    "\n",
    "    \n",
    "    publica = {'e': e, 'n': n}\n",
    "    privada = {'d': d, 'n': n}\n",
    "\n",
    "    return publica, privada"
   ]
  },
  {
   "cell_type": "code",
   "execution_count": null,
   "metadata": {},
   "outputs": [],
   "source": [
    "pub, priv = gerar_chaves()\n",
    "print(pub)\n",
    "print(priv)"
   ]
  },
  {
   "cell_type": "code",
   "execution_count": null,
   "metadata": {},
   "outputs": [],
   "source": [
    "alfabeto = { 'A': 2, 'B': 3, 'C': 4, 'D': 5, 'E': 6, 'F': 7, 'G': 8, 'H': 9, 'I': 10, 'J': 11, 'K': 12, 'L': 13, 'M': 14, 'N': 15, 'O': 16, 'P': 17, 'Q': 18, 'R': 19, 'S': 20, 'T': 21, 'U': 22, 'V': 23, 'W': 24, 'X': 25, 'Y': 26, 'Z': 27, ' ': 28}\n",
    "\n",
    "def encriptar(msg, e, n):\n",
    "    msg = msg.upper()\n",
    "    tam = len(msg)\n",
    "    encriptado = \"\"\n",
    "    \n",
    "    for idx, char in enumerate(msg):\n",
    "        codigo = pow(alfabeto[char], e, n)\n",
    "        encriptado += str(codigo)\n",
    "\n",
    "        if(idx + 1 != tam):\n",
    "            encriptado += ' '\n",
    "\n",
    "    return encriptado\n",
    "\n",
    "def desencriptar(msg, d, n):\n",
    "    m = (p - 1) * (q - 1)\n",
    "    d = inverso_modular(e, m)\n",
    "\n",
    "    alfabeto_reverso = dict(map(reversed, alfabeto.items()))\n",
    "    desencriptado = \"\"\n",
    "\n",
    "    for num in msg.split():\n",
    "        codigo = pow(int(num), d, n)\n",
    "        desencriptado += alfabeto_reverso[codigo]\n",
    "\n",
    "    return desencriptado"
   ]
  }
 ]
}